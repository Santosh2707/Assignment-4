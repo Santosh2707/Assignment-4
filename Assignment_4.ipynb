{
 "cells": [
  {
   "cell_type": "markdown",
   "id": "10487756",
   "metadata": {},
   "source": [
    "# 1. What exactly is []?"
   ]
  },
  {
   "cell_type": "markdown",
   "id": "fc63a288",
   "metadata": {},
   "source": [
    "[] is the empty list."
   ]
  },
  {
   "cell_type": "markdown",
   "id": "249cf408",
   "metadata": {},
   "source": [
    "# 2. In a list of values stored in a variable called spam, how would you assign the value &#39;hello&#39; as the third value? \n",
    "(Assume [2, 4, 6, 8, 10] are in spam.)"
   ]
  },
  {
   "cell_type": "markdown",
   "id": "e34a6d85",
   "metadata": {},
   "source": [
    "In order to assignn 'hello' at 3rd value. We need to modify the value at index 2 of spam list"
   ]
  },
  {
   "cell_type": "code",
   "execution_count": 2,
   "id": "f2213f47",
   "metadata": {},
   "outputs": [
    {
     "name": "stdout",
     "output_type": "stream",
     "text": [
      "[2, 4, 6, 8, 10]\n",
      "[2, 4, 'hello', 8, 10]\n"
     ]
    }
   ],
   "source": [
    "spam = [2, 4, 6, 8, 10]\n",
    "print(spam)\n",
    "spam[2] = 'hello'\n",
    "print(spam)"
   ]
  },
  {
   "cell_type": "markdown",
   "id": "73d82f5e",
   "metadata": {},
   "source": [
    "Let&#39;s pretend the spam includes the list [&#39;a&#39;, &#39;b&#39;, &#39;c&#39;, &#39;d&#39;] for the next three queries."
   ]
  },
  {
   "cell_type": "markdown",
   "id": "9d9d35b2",
   "metadata": {},
   "source": [
    "# 3. What is the value of spam[int(int(&#39;3&#39; * 2) / 11)]?"
   ]
  },
  {
   "cell_type": "raw",
   "id": "1014e5c4",
   "metadata": {},
   "source": [
    "'3'**2 will give '33'\n",
    "int('33') will be 33\n",
    "33/11 will be 3.0\n",
    "int(3.0) will give 3\n",
    "spam[3] will be value at index 3 that is 'd'"
   ]
  },
  {
   "cell_type": "code",
   "execution_count": 3,
   "id": "1830d367",
   "metadata": {},
   "outputs": [
    {
     "data": {
      "text/plain": [
       "8"
      ]
     },
     "execution_count": 3,
     "metadata": {},
     "output_type": "execute_result"
    }
   ],
   "source": [
    "spam[int(int('3'*2)/11)]"
   ]
  },
  {
   "cell_type": "markdown",
   "id": "52aa19d0",
   "metadata": {},
   "source": [
    "# 4. What is the value of spam[-1]?\n",
    "spam[-1] = last value of list that is 'd'"
   ]
  },
  {
   "cell_type": "code",
   "execution_count": 4,
   "id": "b4f671c7",
   "metadata": {},
   "outputs": [
    {
     "data": {
      "text/plain": [
       "10"
      ]
     },
     "execution_count": 4,
     "metadata": {},
     "output_type": "execute_result"
    }
   ],
   "source": [
    "spam[-1]"
   ]
  },
  {
   "cell_type": "markdown",
   "id": "904a392d",
   "metadata": {},
   "source": [
    "# 5. What is the value of spam[:2]?\n",
    "spam[:2] = 'a' and 'b'"
   ]
  },
  {
   "cell_type": "code",
   "execution_count": 5,
   "id": "ce6226fa",
   "metadata": {},
   "outputs": [
    {
     "data": {
      "text/plain": [
       "[2, 4]"
      ]
     },
     "execution_count": 5,
     "metadata": {},
     "output_type": "execute_result"
    }
   ],
   "source": [
    "spam[:2]"
   ]
  },
  {
   "cell_type": "markdown",
   "id": "6f6b5c4f",
   "metadata": {},
   "source": [
    "Let's pretend bacon has the list [3.14, 'cat,' 11, 'cat,' True] for the next three questions."
   ]
  },
  {
   "cell_type": "code",
   "execution_count": 6,
   "id": "1cf6283d",
   "metadata": {},
   "outputs": [],
   "source": [
    "bacon = [3.14, 'cat', 11, 'cat', True]"
   ]
  },
  {
   "cell_type": "markdown",
   "id": "c2643859",
   "metadata": {},
   "source": [
    "# 6. What is the value of bacon.index('cat')?\n",
    "It will output the index of first occurence of 'cat' value\n",
    "ans: 1"
   ]
  },
  {
   "cell_type": "code",
   "execution_count": 7,
   "id": "93dd0eee",
   "metadata": {},
   "outputs": [
    {
     "data": {
      "text/plain": [
       "1"
      ]
     },
     "execution_count": 7,
     "metadata": {},
     "output_type": "execute_result"
    }
   ],
   "source": [
    "bacon.index('cat')"
   ]
  },
  {
   "cell_type": "markdown",
   "id": "037e1e81",
   "metadata": {},
   "source": [
    "# 7. How does bacon.append(99) change the look of the list value in bacon?\n",
    "It will append 99 at the end of list bacon\n",
    "[3.14, 'cat', 11, 'cat', True, 99]"
   ]
  },
  {
   "cell_type": "code",
   "execution_count": 8,
   "id": "564ef21d",
   "metadata": {},
   "outputs": [
    {
     "name": "stdout",
     "output_type": "stream",
     "text": [
      "[3.14, 'cat', 11, 'cat', True, 99]\n"
     ]
    }
   ],
   "source": [
    "bacon.append(99)\n",
    "print(bacon)"
   ]
  },
  {
   "cell_type": "markdown",
   "id": "2d10cc8e",
   "metadata": {},
   "source": [
    "# 8. How does bacon.remove('cat') change the look of the list in bacon?\n",
    "It will remove the first occurence of the 'cat'\n",
    "[3.14, 11, 'cat', True, 99]"
   ]
  },
  {
   "cell_type": "code",
   "execution_count": 9,
   "id": "7309542a",
   "metadata": {},
   "outputs": [
    {
     "name": "stdout",
     "output_type": "stream",
     "text": [
      "[3.14, 11, 'cat', True, 99]\n"
     ]
    }
   ],
   "source": [
    "bacon.remove('cat')\n",
    "print(bacon)"
   ]
  },
  {
   "cell_type": "markdown",
   "id": "38e1d960",
   "metadata": {},
   "source": [
    "# 9. What are the list concatenation and list replication operators?\n",
    "List concatenation operator is ‘+’ while list replication operator is ‘*’"
   ]
  },
  {
   "cell_type": "markdown",
   "id": "dd1a98ca",
   "metadata": {},
   "source": [
    "# 10. What is difference between the list methods append() and insert()?\n",
    "Append method appends the given object to the end of the list always.\n",
    "\n",
    "Insert method accepts two arguments, index at which the element needs to be inserted and the object to insert."
   ]
  },
  {
   "cell_type": "markdown",
   "id": "b258193b",
   "metadata": {},
   "source": [
    "# 11. What are the two methods for removing items from a list?\n",
    "Two methods used for removing items from a list are:\n",
    "\n",
    "List.remove(object) -> Removes the first occurrence of the given object from the list\n",
    "\n",
    "List.pop(index = -1) -> Removes and returns item at the index (default is -1, the last element)"
   ]
  },
  {
   "cell_type": "markdown",
   "id": "5e04eefc",
   "metadata": {},
   "source": [
    "# 12. Describe how list values and string values are identical.\n",
    "While list is a collection of values in Python, string is a collection of characters. Both list and strings are iterable in Python and a for loop can be used around a list or string object to iterate through each element in the list/string."
   ]
  },
  {
   "cell_type": "markdown",
   "id": "edf8a6f8",
   "metadata": {},
   "source": [
    "# 13. What's the difference between tuples and lists?\n",
    "Tuples are immutable where as lists in Python are mutable. So once created, the items inside a tuple cannot be changed."
   ]
  },
  {
   "cell_type": "markdown",
   "id": "966ee3dd",
   "metadata": {},
   "source": [
    "# 14. How do you type a tuple value that only contains the integer 42?\n",
    "tup = tuple([32])"
   ]
  },
  {
   "cell_type": "code",
   "execution_count": 10,
   "id": "20bde942",
   "metadata": {},
   "outputs": [
    {
     "name": "stdout",
     "output_type": "stream",
     "text": [
      "(32,)\n"
     ]
    }
   ],
   "source": [
    "tup = tuple([32])\n",
    "print(tup)"
   ]
  },
  {
   "cell_type": "markdown",
   "id": "6a8c86a3",
   "metadata": {},
   "source": [
    "# 15. How do you get a list value's tuple form? How do you get a tuple value's list form?\n",
    "By using type casting\n",
    "\n",
    "b = tuple([42, 3, 5])\n",
    "\n",
    "type(b) # tuple\n",
    "\n",
    "c = list(b)\n",
    "\n",
    "type(c) # list"
   ]
  },
  {
   "cell_type": "code",
   "execution_count": 11,
   "id": "85550b27",
   "metadata": {},
   "outputs": [
    {
     "data": {
      "text/plain": [
       "list"
      ]
     },
     "execution_count": 11,
     "metadata": {},
     "output_type": "execute_result"
    }
   ],
   "source": [
    "b = tuple([42, 3, 5])\n",
    "type(b)  # tuple\n",
    "c = list(b)\n",
    "type(c) # list"
   ]
  },
  {
   "cell_type": "markdown",
   "id": "960b7abf",
   "metadata": {},
   "source": [
    "# 16. Variables that \"contain\" list values are not necessarily lists themselves. Instead, what do they contain?\n",
    "They contain references to the list values"
   ]
  },
  {
   "cell_type": "code",
   "execution_count": 12,
   "id": "c0f938d9",
   "metadata": {},
   "outputs": [
    {
     "name": "stdout",
     "output_type": "stream",
     "text": [
      "[1, 2, 3]\n",
      "2055260383744\n"
     ]
    }
   ],
   "source": [
    "var = [1,2,3]\n",
    "print(var)\n",
    "print(id(var))"
   ]
  },
  {
   "cell_type": "markdown",
   "id": "7551174d",
   "metadata": {},
   "source": [
    "# 17. How do you distinguish between copy.copy() and copy.deepcopy()?\n",
    "copy() returns a shallow copy of list and deepcopy() return a deep copy of list.\n",
    "deepcopy: In case of deep copy, a copy of object is copied in other object. It means that any changes made to a copy of object do not reflect in the original object.\n",
    "shallow copy: In case of shallow copy, a reference of object is copied in other object. It means that any changes made to a copy of object do reflect in the original object."
   ]
  },
  {
   "cell_type": "code",
   "execution_count": null,
   "id": "e416649e",
   "metadata": {},
   "outputs": [],
   "source": []
  }
 ],
 "metadata": {
  "kernelspec": {
   "display_name": "Python 3 (ipykernel)",
   "language": "python",
   "name": "python3"
  },
  "language_info": {
   "codemirror_mode": {
    "name": "ipython",
    "version": 3
   },
   "file_extension": ".py",
   "mimetype": "text/x-python",
   "name": "python",
   "nbconvert_exporter": "python",
   "pygments_lexer": "ipython3",
   "version": "3.9.12"
  }
 },
 "nbformat": 4,
 "nbformat_minor": 5
}
